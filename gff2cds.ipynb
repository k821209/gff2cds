{
 "cells": [
  {
   "cell_type": "code",
   "execution_count": 36,
   "metadata": {
    "collapsed": false
   },
   "outputs": [],
   "source": [
    "from __future__ import print_function\n",
    "import pandas as pd\n",
    "import numpy as np"
   ]
  },
  {
   "cell_type": "code",
   "execution_count": 25,
   "metadata": {
    "collapsed": true
   },
   "outputs": [],
   "source": [
    "def rev_comp(strSeq):\n",
    "\tdicComp = {'A':'T','T':'A','G':'C','C':'G','N':'N'}\n",
    "\tstrCseq = ''\n",
    "\tfor i in strSeq:\n",
    "\t\ttry:\n",
    "\t\t\tstrCseq += dicComp[i.upper()]\n",
    "\t\texcept KeyError:\n",
    "\t\t\tstrCseq += 'N'\n",
    "\t# End of for i\n",
    "\treturn(strCseq[::-1])"
   ]
  },
  {
   "cell_type": "code",
   "execution_count": 26,
   "metadata": {
    "collapsed": false
   },
   "outputs": [],
   "source": [
    "file_fa = '/ref/analysis/Cre/ref/Creinhardtii_281_v5.0.fa'\n",
    "\n",
    "bulk = open(file_fa).read()\n",
    "bulk = bulk.split('>')\n",
    "dicHD2seq = {}\n",
    "for each_bulk in bulk:\n",
    "    if each_bulk.strip() == '':\n",
    "        continue\n",
    "    genename = each_bulk.split('\\n')[0]\n",
    "    seq      = ''.join(each_bulk.split('\\n')[1:])\n",
    "    dicHD2seq[genename] = seq"
   ]
  },
  {
   "cell_type": "code",
   "execution_count": 27,
   "metadata": {
    "collapsed": false
   },
   "outputs": [
    {
     "name": "stderr",
     "output_type": "stream",
     "text": [
      "/usr/local/lib/python2.7/dist-packages/ipykernel/__main__.py:8: SettingWithCopyWarning: \n",
      "A value is trying to be set on a copy of a slice from a DataFrame.\n",
      "Try using .loc[row_indexer,col_indexer] = value instead\n",
      "\n",
      "See the caveats in the documentation: http://pandas.pydata.org/pandas-docs/stable/indexing.html#indexing-view-versus-copy\n",
      "/usr/local/lib/python2.7/dist-packages/ipykernel/__main__.py:13: SettingWithCopyWarning: \n",
      "A value is trying to be set on a copy of a slice from a DataFrame.\n",
      "Try using .loc[row_indexer,col_indexer] = value instead\n",
      "\n",
      "See the caveats in the documentation: http://pandas.pydata.org/pandas-docs/stable/indexing.html#indexing-view-versus-copy\n",
      "/usr/local/lib/python2.7/dist-packages/ipykernel/__main__.py:17: FutureWarning: sort(columns=....) is deprecated, use sort_values(by=.....)\n"
     ]
    }
   ],
   "source": [
    "file_gff = '/ref/analysis/stringtie.addcds/my_csv.csv.addgene.gff3.sort.gff3'\n",
    "\n",
    "df_gff = pd.read_csv(file_gff,sep='\\t',header=None,comment='#')\n",
    "\n",
    "mask        = (df_gff[2] == 'gene')\n",
    "df_gff_gene = df_gff[mask]      \n",
    "\n",
    "df_gff_gene['genename'] = df_gff[8].apply(lambda x:x.replace('ID=',''))\n",
    "\n",
    "mask = (df_gff[2] == 'CDS')\n",
    "df_gff_cds = df_gff[mask]      \n",
    "\n",
    "df_gff_cds['genename'] = df_gff_cds[8].apply(lambda x : x.replace('Parent=',''))\n",
    "\n",
    "df_gff_cds_index = df_gff_cds.set_index('genename')\n",
    "\n",
    "df_gff_cds_index = df_gff_cds_index.sort([3], ascending=[1])"
   ]
  },
  {
   "cell_type": "code",
   "execution_count": 28,
   "metadata": {
    "collapsed": false
   },
   "outputs": [
    {
     "data": {
      "text/html": [
       "<div>\n",
       "<table border=\"1\" class=\"dataframe\">\n",
       "  <thead>\n",
       "    <tr style=\"text-align: right;\">\n",
       "      <th></th>\n",
       "      <th>0</th>\n",
       "      <th>1</th>\n",
       "      <th>2</th>\n",
       "      <th>3</th>\n",
       "      <th>4</th>\n",
       "      <th>5</th>\n",
       "      <th>6</th>\n",
       "      <th>7</th>\n",
       "      <th>8</th>\n",
       "    </tr>\n",
       "  </thead>\n",
       "  <tbody>\n",
       "    <tr>\n",
       "      <th>0</th>\n",
       "      <td>chromosome_1</td>\n",
       "      <td>ST/ALL/KYJ</td>\n",
       "      <td>gene</td>\n",
       "      <td>9027</td>\n",
       "      <td>10985</td>\n",
       "      <td>.</td>\n",
       "      <td>+</td>\n",
       "      <td>.</td>\n",
       "      <td>ID=gene1</td>\n",
       "    </tr>\n",
       "    <tr>\n",
       "      <th>1</th>\n",
       "      <td>chromosome_1</td>\n",
       "      <td>ST/AG/CRE</td>\n",
       "      <td>mRNA</td>\n",
       "      <td>9027</td>\n",
       "      <td>10985</td>\n",
       "      <td>.</td>\n",
       "      <td>+</td>\n",
       "      <td>.</td>\n",
       "      <td>ID=mRNA1;Parent=gene1;Name=STRG.27.2</td>\n",
       "    </tr>\n",
       "    <tr>\n",
       "      <th>2</th>\n",
       "      <td>chromosome_1</td>\n",
       "      <td>ST/AG/CRE</td>\n",
       "      <td>five_prime_UTR</td>\n",
       "      <td>9027</td>\n",
       "      <td>9229</td>\n",
       "      <td>.</td>\n",
       "      <td>+</td>\n",
       "      <td>.</td>\n",
       "      <td>Parent=mRNA1;Name=STRG.27.2</td>\n",
       "    </tr>\n",
       "    <tr>\n",
       "      <th>3</th>\n",
       "      <td>chromosome_1</td>\n",
       "      <td>ST/AG/CRE</td>\n",
       "      <td>CDS</td>\n",
       "      <td>9230</td>\n",
       "      <td>9472</td>\n",
       "      <td>.</td>\n",
       "      <td>+</td>\n",
       "      <td>0</td>\n",
       "      <td>Parent=mRNA1;Name=STRG.27.2</td>\n",
       "    </tr>\n",
       "    <tr>\n",
       "      <th>4</th>\n",
       "      <td>chromosome_1</td>\n",
       "      <td>ST/AG/CRE</td>\n",
       "      <td>three_prime_UTR</td>\n",
       "      <td>9473</td>\n",
       "      <td>10985</td>\n",
       "      <td>.</td>\n",
       "      <td>+</td>\n",
       "      <td>.</td>\n",
       "      <td>Parent=mRNA1;Name=STRG.27.2</td>\n",
       "    </tr>\n",
       "  </tbody>\n",
       "</table>\n",
       "</div>"
      ],
      "text/plain": [
       "              0           1                2     3      4  5  6  7  \\\n",
       "0  chromosome_1  ST/ALL/KYJ             gene  9027  10985  .  +  .   \n",
       "1  chromosome_1   ST/AG/CRE             mRNA  9027  10985  .  +  .   \n",
       "2  chromosome_1   ST/AG/CRE   five_prime_UTR  9027   9229  .  +  .   \n",
       "3  chromosome_1   ST/AG/CRE              CDS  9230   9472  .  +  0   \n",
       "4  chromosome_1   ST/AG/CRE  three_prime_UTR  9473  10985  .  +  .   \n",
       "\n",
       "                                      8  \n",
       "0                              ID=gene1  \n",
       "1  ID=mRNA1;Parent=gene1;Name=STRG.27.2  \n",
       "2           Parent=mRNA1;Name=STRG.27.2  \n",
       "3           Parent=mRNA1;Name=STRG.27.2  \n",
       "4           Parent=mRNA1;Name=STRG.27.2  "
      ]
     },
     "execution_count": 28,
     "metadata": {},
     "output_type": "execute_result"
    }
   ],
   "source": [
    "df_gff.head()"
   ]
  },
  {
   "cell_type": "code",
   "execution_count": 29,
   "metadata": {
    "collapsed": false,
    "scrolled": false
   },
   "outputs": [],
   "source": [
    "i = 0\n",
    "dic = {'transcriptname' : [],\n",
    "       'strand' : [],\n",
    "       'CDSloc' : [],\n",
    "       'CDSseq' : []}\n",
    "for genename in set(df_gff_cds_index.index):\n",
    "    \n",
    "    dic['transcriptname'].append(genename)\n",
    "    \n",
    "    edf = df_gff_cds_index.loc[genename]\n",
    "    if str(type(edf)) == \"<class 'pandas.core.frame.DataFrame'>\":\n",
    "        CDS_list = zip(list(edf[3]),list(edf[4]))\n",
    "        chromosome = edf[0][0]\n",
    "        strand     = edf[6][0]\n",
    "    else:\n",
    "        CDS_list = zip([edf[3]],[edf[4]])\n",
    "        chromosome = edf[0]\n",
    "        strand     = edf[6]\n",
    "    \n",
    "    dic['strand'].append(strand)\n",
    "    cdsseq = ''\n",
    "    for l,r in CDS_list:\n",
    "        #print l,r\n",
    "        cdsseq += dicHD2seq[chromosome][l-1:r]\n",
    "    if strand == '+':\n",
    "        pass\n",
    "    else: \n",
    "        cdsseq = rev_comp(cdsseq)\n",
    "    dic['CDSloc'].append(CDS_list)\n",
    "    dic['CDSseq'].append(cdsseq)\n",
    "    #print genename,chromosome,strand,CDS_list,cdsseq\n",
    "    #if i == 10:\n",
    "    #    break\n",
    "    #i += 1"
   ]
  },
  {
   "cell_type": "code",
   "execution_count": 30,
   "metadata": {
    "collapsed": true
   },
   "outputs": [],
   "source": [
    "df_cds = pd.DataFrame(dic)\n",
    "df_cds['transcript'] = df_cds['transcriptname'].apply(lambda x : x.split('.')[1])\n",
    "df_cds['gene'] = df_cds['transcriptname'].apply(lambda x : x.split('.')[0])"
   ]
  },
  {
   "cell_type": "code",
   "execution_count": 31,
   "metadata": {
    "collapsed": false
   },
   "outputs": [],
   "source": [
    "df_cds_index = df_cds.set_index(['gene','transcript'])"
   ]
  },
  {
   "cell_type": "code",
   "execution_count": 32,
   "metadata": {
    "collapsed": true
   },
   "outputs": [],
   "source": [
    "df_cds_index.to_pickle(file_gff+'.cdsseq.pk')"
   ]
  },
  {
   "cell_type": "code",
   "execution_count": 33,
   "metadata": {
    "collapsed": false
   },
   "outputs": [
    {
     "data": {
      "text/plain": [
       "array([ 'ATGATGCACTGCCTGCGTGGCCTGCGCGGGCTTACGGAGGGCCTTCCGTCCACGGTTGCAGCCCCGCTGCAGCACCTGGCGCCGGGCTTCTTTCGGTCACTGGTGGCGGATTCACCAGAGGCGGAGGCATGGGAGCAACATACAGCGAACAGCTGGCCTTTGTCGCCTCAGGACATGCATGTGAAGGAGCGGGGGCGGGGTGAGGAGGCCTCCACTTCACCACGTTGCAGGGGCGCGGCGTCGGCAGTGCGCGTACAGGGTGCCGCTCTGGGACGGCGAAGGGTGTTGCGGCTGGCTGGCTCTGACACCTTCGTTTCCAACGTGGCGACGCTGCTTTTAACACTTCAGCAGCAGCACGCGCCAGGGGATTCGCAGGCTGGGAGGGCCACAGTAGCTCGTGGATGCAGCCTGGCGTGGCGTGAAGCGGTGGGGGACCCACGCTTCCTGCAGCTCTTCCCGCGCCGAATCTCACCGGACACGAAGGACATCCTGCAGCGGCTGCAGGGCGGTGCGCGGAGCAGTGAACCAGGTGGTGCAGGCGGCAAGGCACGGGACATCGCTTGGACGCGGGAGGACGCGGCCCGGCACTCAGCGATGCTGCGGCTCATAGACCAGCTGCAGGAGGTCCAGCGCCAACTGCAGGAGGCTATGCCTCAGGACGAGGACTCGGACAGCGACGAGGACGGCACCGACAGCAGCTATGTAACGGTGGCTGCCTTCACGGTTGAAGACGGTTCCTTCATGTCGCAGCCCCGGGACCGTACGCGGTCAGCAAGCGGCAGCGCACGTGGCATGGACGGCGACATGGACGCAGCAGACGGCGGGCTCGGGGAGCAGGCGCCCAGCTCGTGGCCCTGTCCGCTGGGCCGGCGCCGGAGAGCGCCAGGCGGCCGGCTGCTGCGGGCCCCGGTGCCGCCTTGGGACGACACGCAGCCATTCCAGACGCACGTGGGCACAGTGTATCATTTTTGGCGGCTGGCTCCGTATGGCTGA'], dtype=object)"
      ]
     },
     "execution_count": 33,
     "metadata": {},
     "output_type": "execute_result"
    }
   ],
   "source": [
    "df_cds_index.loc['mRNA6917;Name=STRG']['CDSseq'].values"
   ]
  },
  {
   "cell_type": "code",
   "execution_count": 34,
   "metadata": {
    "collapsed": false
   },
   "outputs": [
    {
     "data": {
      "text/html": [
       "<div>\n",
       "<table border=\"1\" class=\"dataframe\">\n",
       "  <thead>\n",
       "    <tr style=\"text-align: right;\">\n",
       "      <th></th>\n",
       "      <th></th>\n",
       "      <th>CDSloc</th>\n",
       "      <th>CDSseq</th>\n",
       "      <th>strand</th>\n",
       "      <th>transcriptname</th>\n",
       "    </tr>\n",
       "    <tr>\n",
       "      <th>gene</th>\n",
       "      <th>transcript</th>\n",
       "      <th></th>\n",
       "      <th></th>\n",
       "      <th></th>\n",
       "      <th></th>\n",
       "    </tr>\n",
       "  </thead>\n",
       "  <tbody>\n",
       "    <tr>\n",
       "      <th>mRNA22572;Name=STRG</th>\n",
       "      <th>8216</th>\n",
       "      <td>[(896879, 897025), (897493, 897604), (897878, ...</td>\n",
       "      <td>ATGGCAGGTTCCAAGAAGAAAAAGTCTGAGCCTTCGGGCCCAGACC...</td>\n",
       "      <td>-</td>\n",
       "      <td>mRNA22572;Name=STRG.8216.5</td>\n",
       "    </tr>\n",
       "    <tr>\n",
       "      <th>mRNA1659;Name=STRG</th>\n",
       "      <th>1093</th>\n",
       "      <td>[(6704291, 6704576), (6704815, 6704901), (6705...</td>\n",
       "      <td>ATGGCGTCACTGCGTGCTCCCTGTGCCGCGAGCACATTGCCGACTC...</td>\n",
       "      <td>-</td>\n",
       "      <td>mRNA1659;Name=STRG.1093.3</td>\n",
       "    </tr>\n",
       "    <tr>\n",
       "      <th>mRNA18427;Name=STRG</th>\n",
       "      <th>4837</th>\n",
       "      <td>[(226219, 226497), (226818, 227009), (227363, ...</td>\n",
       "      <td>ATGGTCCTTGTCGCGACATTAGGGTACTCGCAGCATGCCAAGTCGT...</td>\n",
       "      <td>-</td>\n",
       "      <td>mRNA18427;Name=STRG.4837.4</td>\n",
       "    </tr>\n",
       "    <tr>\n",
       "      <th>mRNA19204;Name=STRG</th>\n",
       "      <th>5527</th>\n",
       "      <td>[(3670160, 3670182), (3671670, 3671725), (3672...</td>\n",
       "      <td>ATGTCGGTAGAGGTCGGCATAAAATGGAGCGGCAAGGAGTTTGTCA...</td>\n",
       "      <td>-</td>\n",
       "      <td>mRNA19204;Name=STRG.5527.3|m.265767</td>\n",
       "    </tr>\n",
       "    <tr>\n",
       "      <th>mRNA21255;Name=STRG</th>\n",
       "      <th>7186</th>\n",
       "      <td>[(4429909, 4429973), (4430411, 4430519), (4431...</td>\n",
       "      <td>ATGGCGGCGCGGTCCCCGGTGGCTCAGTTCGAGCCTCAGGTCCGCA...</td>\n",
       "      <td>-</td>\n",
       "      <td>mRNA21255;Name=STRG.7186.1</td>\n",
       "    </tr>\n",
       "  </tbody>\n",
       "</table>\n",
       "</div>"
      ],
      "text/plain": [
       "                                                                           CDSloc  \\\n",
       "gene                transcript                                                      \n",
       "mRNA22572;Name=STRG 8216        [(896879, 897025), (897493, 897604), (897878, ...   \n",
       "mRNA1659;Name=STRG  1093        [(6704291, 6704576), (6704815, 6704901), (6705...   \n",
       "mRNA18427;Name=STRG 4837        [(226219, 226497), (226818, 227009), (227363, ...   \n",
       "mRNA19204;Name=STRG 5527        [(3670160, 3670182), (3671670, 3671725), (3672...   \n",
       "mRNA21255;Name=STRG 7186        [(4429909, 4429973), (4430411, 4430519), (4431...   \n",
       "\n",
       "                                                                           CDSseq  \\\n",
       "gene                transcript                                                      \n",
       "mRNA22572;Name=STRG 8216        ATGGCAGGTTCCAAGAAGAAAAAGTCTGAGCCTTCGGGCCCAGACC...   \n",
       "mRNA1659;Name=STRG  1093        ATGGCGTCACTGCGTGCTCCCTGTGCCGCGAGCACATTGCCGACTC...   \n",
       "mRNA18427;Name=STRG 4837        ATGGTCCTTGTCGCGACATTAGGGTACTCGCAGCATGCCAAGTCGT...   \n",
       "mRNA19204;Name=STRG 5527        ATGTCGGTAGAGGTCGGCATAAAATGGAGCGGCAAGGAGTTTGTCA...   \n",
       "mRNA21255;Name=STRG 7186        ATGGCGGCGCGGTCCCCGGTGGCTCAGTTCGAGCCTCAGGTCCGCA...   \n",
       "\n",
       "                               strand                       transcriptname  \n",
       "gene                transcript                                              \n",
       "mRNA22572;Name=STRG 8216            -           mRNA22572;Name=STRG.8216.5  \n",
       "mRNA1659;Name=STRG  1093            -            mRNA1659;Name=STRG.1093.3  \n",
       "mRNA18427;Name=STRG 4837            -           mRNA18427;Name=STRG.4837.4  \n",
       "mRNA19204;Name=STRG 5527            -  mRNA19204;Name=STRG.5527.3|m.265767  \n",
       "mRNA21255;Name=STRG 7186            -           mRNA21255;Name=STRG.7186.1  "
      ]
     },
     "execution_count": 34,
     "metadata": {},
     "output_type": "execute_result"
    }
   ],
   "source": [
    "df_cds_index.head()"
   ]
  },
  {
   "cell_type": "code",
   "execution_count": 39,
   "metadata": {
    "collapsed": false
   },
   "outputs": [],
   "source": [
    "with open('cds.fa','w') as f:\n",
    "    for ix in df_cds_index.index:\n",
    "        sub_df = df_cds_index.loc[ix]\n",
    "        header = sub_df['transcriptname'].split(';')[1].replace('Name=','')\n",
    "        seq    = sub_df['CDSseq']\n",
    "        print('>'+header,file=f)\n",
    "        print(seq,file=f)\n"
   ]
  },
  {
   "cell_type": "code",
   "execution_count": null,
   "metadata": {
    "collapsed": true
   },
   "outputs": [],
   "source": []
  }
 ],
 "metadata": {
  "kernelspec": {
   "display_name": "Python 2",
   "language": "python",
   "name": "python2"
  },
  "language_info": {
   "codemirror_mode": {
    "name": "ipython",
    "version": 2
   },
   "file_extension": ".py",
   "mimetype": "text/x-python",
   "name": "python",
   "nbconvert_exporter": "python",
   "pygments_lexer": "ipython2",
   "version": "2.7.6"
  }
 },
 "nbformat": 4,
 "nbformat_minor": 0
}
